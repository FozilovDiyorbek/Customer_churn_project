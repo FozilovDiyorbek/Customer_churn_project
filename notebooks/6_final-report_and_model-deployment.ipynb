{
 "cells": [
  {
   "cell_type": "code",
   "execution_count": 1,
   "id": "7bcd95da",
   "metadata": {},
   "outputs": [
    {
     "name": "stdout",
     "output_type": "stream",
     "text": [
      "Model prediktsiyasi: [0. 0. 0. 0. 0.]\n"
     ]
    }
   ],
   "source": [
    "import joblib\n",
    "import pandas as pd\n",
    "\n",
    "# 2. We upload the best model\n",
    "model = joblib.load('C:/Projects/Customer_churn_project/models/best_model.pkl')\n",
    "\n",
    "#3. Test data \n",
    "sample_data = pd.read_csv(\"C:/Projects/Customer_churn_project/data/processed/cleaned_customer_churn.csv\").sample(5, random_state=42)\n",
    "X_sample = sample_data.drop(columns=[\"Exited\"])\n",
    "\n",
    "# 4. We predict through the model\n",
    "predictions = model.predict(X_sample)\n",
    "print(\"Model prediktsiyasi:\", predictions)"
   ]
  },
  {
   "cell_type": "code",
   "execution_count": null,
   "id": "9ad1a4d2",
   "metadata": {},
   "outputs": [],
   "source": []
  }
 ],
 "metadata": {
  "kernelspec": {
   "display_name": "Python 3",
   "language": "python",
   "name": "python3"
  },
  "language_info": {
   "codemirror_mode": {
    "name": "ipython",
    "version": 3
   },
   "file_extension": ".py",
   "mimetype": "text/x-python",
   "name": "python",
   "nbconvert_exporter": "python",
   "pygments_lexer": "ipython3",
   "version": "3.11.9"
  }
 },
 "nbformat": 4,
 "nbformat_minor": 5
}
